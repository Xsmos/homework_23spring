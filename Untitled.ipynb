{
 "cells": [
  {
   "cell_type": "code",
   "execution_count": 1,
   "id": "1ec85542-e8cf-49fd-a54c-0f2852ebd92d",
   "metadata": {},
   "outputs": [],
   "source": [
    "from gaussxw import gaussxw"
   ]
  },
  {
   "cell_type": "code",
   "execution_count": 3,
   "id": "29a7fb9a-027a-4d28-97bb-98bb0d800400",
   "metadata": {},
   "outputs": [],
   "source": [
    "N = 3\n",
    "x, w = gaussxw(N)"
   ]
  },
  {
   "cell_type": "code",
   "execution_count": 6,
   "id": "aa94ea55-f7cf-477a-ab18-7f94ccdef074",
   "metadata": {},
   "outputs": [],
   "source": [
    "b = 2\n",
    "a = 0"
   ]
  },
  {
   "cell_type": "code",
   "execution_count": 9,
   "id": "a6255028-bd83-4763-a650-a3d29080841e",
   "metadata": {},
   "outputs": [],
   "source": [
    "x_remap = (b-a)*x/2 + (b+a)/2\n",
    "w_remap = (b-a)*w/2"
   ]
  },
  {
   "cell_type": "code",
   "execution_count": 11,
   "id": "56a45249-7ca7-4da3-90d3-af430d2be4ee",
   "metadata": {},
   "outputs": [],
   "source": [
    "def f(x):\n",
    "    y = x**4 - 2*x + 1\n",
    "    return y"
   ]
  },
  {
   "cell_type": "code",
   "execution_count": 13,
   "id": "e2403f37-a772-41a5-bcb6-b35cdcc2cf26",
   "metadata": {},
   "outputs": [],
   "source": [
    "import numpy as np\n",
    "s = np.sum(w_remap*f(x_remap))"
   ]
  },
  {
   "cell_type": "code",
   "execution_count": 14,
   "id": "0ae8fb7b-a0f6-420b-8c17-86ec583c4c27",
   "metadata": {},
   "outputs": [
    {
     "data": {
      "text/plain": [
       "4.4000000000000075"
      ]
     },
     "execution_count": 14,
     "metadata": {},
     "output_type": "execute_result"
    }
   ],
   "source": [
    "s"
   ]
  },
  {
   "cell_type": "code",
   "execution_count": null,
   "id": "bd71d0d4-a5e0-4433-9187-48cbcb2be22a",
   "metadata": {},
   "outputs": [],
   "source": []
  }
 ],
 "metadata": {
  "kernelspec": {
   "display_name": "Python 3 (ipykernel)",
   "language": "python",
   "name": "python3"
  },
  "language_info": {
   "codemirror_mode": {
    "name": "ipython",
    "version": 3
   },
   "file_extension": ".py",
   "mimetype": "text/x-python",
   "name": "python",
   "nbconvert_exporter": "python",
   "pygments_lexer": "ipython3",
   "version": "3.9.18"
  }
 },
 "nbformat": 4,
 "nbformat_minor": 5
}
