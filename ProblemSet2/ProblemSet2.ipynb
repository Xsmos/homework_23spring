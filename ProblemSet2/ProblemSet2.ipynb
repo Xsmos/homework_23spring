{
 "cells": [
  {
   "cell_type": "markdown",
   "metadata": {},
   "source": [
    "# Problem Set #2 – PHYS 7127\n",
    "Bin Xia\n",
    "## 1. (15 points) Using the exponential disk model from the book, derive the expressions for the total angular momentum and energy of the disk."
   ]
  },
  {
   "cell_type": "markdown",
   "metadata": {},
   "source": [
    "From Eq. (11.1), the surface density distribution for exponential disk model is\n",
    "\\begin{align*}\n",
    "\\Sigma(R) &= \\Sigma_0 \\exp(-R/R_d)\n",
    "\\end{align*}\n",
    "From Eq. (11.30), the circular velocity for a thin exponential disk where all stars are assumed to be on circular orbits is\n",
    "\\begin{align*}\n",
    "V_{c,d}^2(R) &= -4\\pi G\\Sigma_0R_dy^2 [I_0(y)K_0(y)-I_1(y)K_1(y)],\n",
    "\\end{align*}\n",
    "where $y=R/(2R_d)$. The total mass of the disk is\n",
    "\\begin{align*}\n",
    "M_d &= \\int_0^\\infty \\Sigma 2 \\pi R dR\\\\\n",
    "&= 2 \\pi \\int_0^\\infty \\Sigma_0 \\exp(-R/R_d) R dR\\\\\n",
    "&= 2 \\pi \\int_0^\\infty \\Sigma_0 \\exp(-2yR_d/R_d) (2yR_d) d(2yR_d)\\\\\n",
    "&= 8\\pi \\Sigma_0 R_d^2 \\int_0^\\infty \\exp(-2y) y dy\\\\\n",
    "&= 8\\pi \\Sigma_0 R_d^2 \\frac{1}{4}\\\\\n",
    "&= 2\\pi R_d^2 \\Sigma_0\\\\\n",
    "\\end{align*}\n",
    "\n",
    "Hence, the total angular momentum is\n",
    "\\begin{align*}\n",
    "J_d &= \\int_0^\\infty R(\\Sigma 2 \\pi RdR) V_c(R)\\\\\n",
    "&= 2 \\pi \\int_0^\\infty \\Sigma V_c R^2dR \\\\\n",
    "&= 2 \\pi \\int_0^\\infty \\Sigma_0 \\exp(-R/R_d) \\sqrt{-4\\pi G\\Sigma_0R_dy^2 [I_0(y)K_0(y)-I_1(y)K_1(y)]} R^2dR \\\\\n",
    "&= 2 \\pi \\int_0^\\infty \\Sigma_0 \\exp(-2yR_d/R_d) \\sqrt{4\\pi G\\Sigma_0R_dy^2 [I_1(y)K_1(y)-I_0(y)K_0(y)]} (2yR_d)^2d(2yR_d) \\\\\n",
    "&= 2 \\pi \\int_0^\\infty \\Sigma_0 \\exp(-2y) \\sqrt{4\\pi G\\Sigma_0R_d}\\sqrt{y^2 [I_1(y)K_1(y)-I_0(y)K_0(y)]} 8R_d^3y^2dy \\\\\n",
    "&= 2 \\pi \\Sigma_0 \\sqrt{4\\pi G\\Sigma_0R_d} 8R_d^3 \\int_0^\\infty \\exp(-2y)\\sqrt{y^2 [I_1(y)K_1(y)-I_0(y)K_0(y)]}y^2dy \\\\\n",
    "&= 32\\pi^{3/2} \\Sigma_0^{3/2} G^{1/2} R_d^{7/2} \\int_0^\\infty \\exp(-2y)\\sqrt{y^2 [I_1(y)K_1(y)-I_0(y)K_0(y)]}y^2dy \\\\\n",
    "&= 32\\pi^{3/2} \\left(\\frac{M_d}{2\\pi R_d^2}\\right)^{3/2} G^{1/2} R_d^{7/2} \\int_0^\\infty \\exp(-2y)\\sqrt{y^2 [I_1(y)K_1(y)-I_0(y)K_0(y)]}y^2dy \\\\\n",
    "&= \\left\\{8\\sqrt{2} \\int_0^\\infty \\exp(-2y)\\sqrt{y^2 [I_1(y)K_1(y)-I_0(y)K_0(y)]}y^2dy \\right\\} {M_d}^{3/2} G^{1/2} R_d^{1/2}\\\\\n",
    "&= \\alpha {M_d}^{3/2} G^{1/2} R_d^{1/2},\\\\\n",
    "\\end{align*}\n",
    "where $\\alpha \\equiv \\left\\{8\\sqrt{2} \\int_0^\\infty \\exp(-2y)\\sqrt{y^2 [I_1(y)K_1(y)-I_0(y)K_0(y)]}y^2dy \\right\\} $ is a constant."
   ]
  },
  {
   "cell_type": "markdown",
   "metadata": {},
   "source": [
    "According to the virial theorem, the total energy of the disk satisfies E = -K, where K is the total kinetic energy of the disk, so that \n",
    "\\begin{align*}\n",
    "E &= -K\\\\\n",
    "&= -\\int_0^\\infty\\frac{1}{2}dm V^2\\\\\n",
    "&= -\\int_0^\\infty\\frac{1}{2} \\Sigma 2\\pi R dR \\left\\{-4\\pi G\\Sigma_0R_dy^2 [I_0(y)K_0(y)-I_1(y)K_1(y)]\\right\\}\\\\\n",
    "&= \\int_0^\\infty \\Sigma_0 \\exp(-R/R_d) \\pi4\\pi G\\Sigma_0R_dy^2 [I_0(y)K_0(y)-I_1(y)K_1(y)] R dR \\\\\n",
    "&= 4\\pi^2 G \\Sigma_0^2 R_d\\int_0^\\infty \\exp(-R/R_d)y^2 [I_0(y)K_0(y)-I_1(y)K_1(y)] R dR \\\\\n",
    "&= 4\\pi^2 G \\Sigma_0^2 R_d\\int_0^\\infty \\exp(-2yR_d/R_d)y^2 [I_0(y)K_0(y)-I_1(y)K_1(y)] 2yR_d d(2yR_d) \\\\\n",
    "&= 16\\pi^2 G \\Sigma_0^2 R_d^3\\int_0^\\infty \\exp(-2y)y^3 [I_0(y)K_0(y)-I_1(y)K_1(y)] dy \\\\\n",
    "&= 16\\pi^2 G \\left(\\frac{M_d}{2\\pi R_d^2}\\right)^2 R_d^3\\int_0^\\infty \\exp(-2y)y^3 [I_0(y)K_0(y)-I_1(y)K_1(y)] dy \\\\\n",
    "&= 4 G {M_d}^2 R_d^{-1}\\int_0^\\infty \\exp(-2y)y^3 [I_0(y)K_0(y)-I_1(y)K_1(y)] dy \\\\\n",
    "&= \\beta G M_d^2 R_d^{-1},\n",
    "\\end{align*}\n",
    "where $\\beta \\equiv 4\\int_0^\\infty \\exp(-2y)y^3 [I_0(y)K_0(y)-I_1(y)K_1(y)] dy$"
   ]
  },
  {
   "cell_type": "markdown",
   "metadata": {},
   "source": [
    "## 2. (5 points) What is the corresponding value for the disk’s spin parameter? Discuss what is needed in galaxy formation, in addition to tidal torques, to establish such a value."
   ]
  },
  {
   "cell_type": "markdown",
   "metadata": {
    "vscode": {
     "languageId": "plaintext"
    }
   },
   "source": [
    "\\begin{align*}\n",
    "\\lambda &\\equiv \\frac{J_d |E|^{1/2}}{GM_d^{5/2}}\\\\\n",
    "&= \\frac{\\alpha {M_d}^{3/2} G^{1/2} R_d^{1/2} \\sqrt{|\\beta G M_d^2 R_d^{-1}|}}{G M_d^{5/2}}\\\\\n",
    "&= {\\alpha \\sqrt{|\\beta|}}\\\\\n",
    "&\\approx 0.426\n",
    "\\end{align*}"
   ]
  },
  {
   "cell_type": "code",
   "execution_count": 13,
   "metadata": {},
   "outputs": [
    {
     "name": "stdout",
     "output_type": "stream",
     "text": [
      "Hence the corresponding value for the spin parameter of an isolated, exponential, infinitesimally thin disk is 0.426.\n"
     ]
    }
   ],
   "source": [
    "alpha = 1.11\n",
    "beta = -0.147\n",
    "Lambda = alpha * (abs(beta))**0.5\n",
    "print(f\"Hence the corresponding value for the spin parameter of an isolated, exponential, infinitesimally thin disk is {Lambda:.3f}.\")"
   ]
  },
  {
   "cell_type": "code",
   "execution_count": null,
   "metadata": {},
   "outputs": [],
   "source": []
  },
  {
   "cell_type": "markdown",
   "metadata": {},
   "source": [
    "## 3. (5 points) Assume that our disk galaxy formed from a spherical density perturbation of uniform density that experienced turn-around (hint: δta(tta) ≃ 1) at redshift zta. What was the proper size of this sphere at the epoch of turn-around?"
   ]
  },
  {
   "cell_type": "markdown",
   "metadata": {
    "vscode": {
     "languageId": "plaintext"
    }
   },
   "source": [
    "For an EdS universe without dark matter, the average density at redshift $z_{ta}$ satisfies\n",
    "\\begin{align*}\n",
    "\\bar \\rho &= \\frac{3H_0^2}{8\\pi G} (1+z_{ta})^3\n",
    "\\end{align*}"
   ]
  },
  {
   "cell_type": "markdown",
   "metadata": {},
   "source": [
    "Since the density of the spherical density of perturbation satisfies $\\rho = (\\delta+1) \\bar \\rho$,\n",
    "\\begin{align*}\n",
    "\\rho(z_{ta}) &= \\frac{3H_0^2}{8\\pi G} (1+z_{ta})^3 (1+\\delta)\n",
    "\\end{align*}\n"
   ]
  },
  {
   "cell_type": "markdown",
   "metadata": {},
   "source": [
    "The mass of the spherical density perturbation should be equal to the mass of the disk galaxy, Hence,\n",
    "\\begin{align*}\n",
    "M_d &= \\rho(z_{ta}) \\frac{4\\pi}{3} r_{ta}^3\n",
    "\\end{align*}\n",
    "\n",
    "Therefore, the proper size of this sphere at the epoch of turn-around is given by\n",
    "\\begin{align*}\n",
    "r_{ta} &= \\left[\\frac{3M_d}{4\\pi \\rho(z_{ta})}\\right]^{1/3}\\\\\n",
    " &= \\left[\\frac{3M_d}{4\\pi \\frac{3H_0^2}{8\\pi G} (1+z_{ta})^3 (1+\\delta)}\\right]^{1/3}\\\\\n",
    " &= \\left[\\frac{2GM_d}{ {H_0^2} (1+z_{ta})^3 (1+\\delta)}\\right]^{1/3}\\\\\n",
    " &= \\left[\\frac{2GM_d}{ {H_0^2} (1+\\delta)}\\right]^{1/3}\\left(\\frac{1}{1+z_{ta}}\\right)\\\\\n",
    "\\end{align*}"
   ]
  },
  {
   "cell_type": "markdown",
   "metadata": {},
   "source": [
    "## 4. (5 points) Under the assumption that disk formation conserves angular momentum, compute the spin parameter of the overdensity at turn-around, as a function of zta. Discuss the implications for disk formation."
   ]
  },
  {
   "cell_type": "markdown",
   "metadata": {
    "vscode": {
     "languageId": "plaintext"
    }
   },
   "source": [
    "Angular momentum and mass are conserved but the binding energy, -E, increases in reverse proportion to its size R. Therefore, the spin parameter of the cloud scales as  \n",
    "\\begin{align*}\n",
    "\\lambda(z_{ta}) = \\lambda_d \\left(\\frac{r_{ta}}{R_d}\\right)^{-1/2}\n",
    "\\end{align*}"
   ]
  },
  {
   "cell_type": "code",
   "execution_count": null,
   "metadata": {},
   "outputs": [],
   "source": []
  },
  {
   "cell_type": "code",
   "execution_count": null,
   "metadata": {},
   "outputs": [],
   "source": []
  },
  {
   "cell_type": "code",
   "execution_count": null,
   "metadata": {},
   "outputs": [],
   "source": []
  },
  {
   "cell_type": "code",
   "execution_count": null,
   "metadata": {},
   "outputs": [],
   "source": []
  }
 ],
 "metadata": {
  "kernelspec": {
   "display_name": "Python 3",
   "language": "python",
   "name": "python3"
  },
  "language_info": {
   "codemirror_mode": {
    "name": "ipython",
    "version": 3
   },
   "file_extension": ".py",
   "mimetype": "text/x-python",
   "name": "python",
   "nbconvert_exporter": "python",
   "pygments_lexer": "ipython3",
   "version": "3.10.12"
  }
 },
 "nbformat": 4,
 "nbformat_minor": 2
}
