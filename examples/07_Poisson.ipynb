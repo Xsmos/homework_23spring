{
 "cells": [
  {
   "cell_type": "code",
   "execution_count": 2,
   "metadata": {
    "scrolled": true
   },
   "outputs": [],
   "source": [
    "%matplotlib inline\n",
    "import numpy as np\n",
    "import matplotlib.pyplot as plt"
   ]
  },
  {
   "cell_type": "code",
   "execution_count": 3,
   "metadata": {
    "scrolled": true
   },
   "outputs": [],
   "source": [
    "# Constants\n",
    "M = 25         # Grid squares on a side\n",
    "V = 0.0         # Voltage at top wall\n",
    "L = 1.0         # Side length of box\n",
    "target = 3e-4   # Target accuracy\n",
    "epsilon_0 = 8.85e-12\n",
    "a = L / float(M) # grid point spacing"
   ]
  },
  {
   "cell_type": "code",
   "execution_count": 4,
   "metadata": {
    "scrolled": true
   },
   "outputs": [],
   "source": [
    "# Create arrays to hold potential values\n",
    "phi = np.zeros([M+1,M+1],float)\n",
    "phi[0,:] = V\n",
    "phiprime = np.empty([M+1,M+1],float)"
   ]
  },
  {
   "cell_type": "code",
   "execution_count": 6,
   "metadata": {
    "scrolled": true
   },
   "outputs": [
    {
     "ename": "NameError",
     "evalue": "name 'i1i1' is not defined",
     "output_type": "error",
     "traceback": [
      "\u001b[0;31m---------------------------------------------------------------------------\u001b[0m",
      "\u001b[0;31mNameError\u001b[0m                                 Traceback (most recent call last)",
      "Cell \u001b[0;32mIn [6], line 11\u001b[0m\n\u001b[1;32m      9\u001b[0m w \u001b[38;5;241m=\u001b[39m \u001b[38;5;28mint\u001b[39m(charge_width[i] \u001b[38;5;241m/\u001b[39m a)\n\u001b[1;32m     10\u001b[0m rho[i0:i0\u001b[38;5;241m+\u001b[39mw\u001b[38;5;241m+\u001b[39m\u001b[38;5;241m1\u001b[39m, i1:i1\u001b[38;5;241m+\u001b[39mw\u001b[38;5;241m+\u001b[39m\u001b[38;5;241m1\u001b[39m] \u001b[38;5;241m=\u001b[39m rho_values[i]\n\u001b[0;32m---> 11\u001b[0m \u001b[38;5;28mprint\u001b[39m(i0,i0\u001b[38;5;241m+\u001b[39mw\u001b[38;5;241m+\u001b[39m\u001b[38;5;241m1\u001b[39m,\u001b[43mi1i1\u001b[49m\u001b[38;5;241m+\u001b[39mw\u001b[38;5;241m+\u001b[39m\u001b[38;5;241m1\u001b[39m)\n",
      "\u001b[0;31mNameError\u001b[0m: name 'i1i1' is not defined"
     ]
    }
   ],
   "source": [
    "# Create surface charge density array\n",
    "rho_values = [-1.0, 1.0]  # Surface charge density\n",
    "charge_width = [0.2, 0.2] # Width of the charges (assuming squares)\n",
    "charge_boundaries = [[0.2, 0.2], [0.6, 0.6]] # Position of origin of the charges\n",
    "rho = np.zeros([M+1,M+1], float)\n",
    "for i in range(len(rho_values)):\n",
    "    i0 = int(charge_boundaries[i][0] / a)\n",
    "    i1 = int(charge_boundaries[i][1] / a)\n",
    "    w = int(charge_width[i] / a)\n",
    "    rho[i0:i0+w+1, i1:i1+w+1] = rho_values[i]\n",
    "    print(i0,i0+w+1,i1i1+w+1)"
   ]
  },
  {
   "cell_type": "code",
   "execution_count": 5,
   "metadata": {
    "tags": []
   },
   "outputs": [
    {
     "name": "stdout",
     "output_type": "stream",
     "text": [
      "Iteration   0: max. residual =            1\n",
      "Iteration  10: max. residual =  2.95126e+07\n",
      "Iteration  20: max. residual =  1.90317e+07\n",
      "Iteration  30: max. residual =   1.3874e+07\n",
      "Iteration  40: max. residual =  1.07168e+07\n",
      "Iteration  50: max. residual =  8.50806e+06\n",
      "Iteration  60: max. residual =  6.84763e+06\n",
      "Iteration  70: max. residual =  5.55172e+06\n",
      "Iteration  80: max. residual =  4.51987e+06\n",
      "Iteration  90: max. residual =  3.68906e+06\n",
      "Iteration 100: max. residual =   3.0157e+06\n",
      "Iteration 110: max. residual =  2.46774e+06\n",
      "Iteration 120: max. residual =  2.02069e+06\n",
      "Iteration 130: max. residual =  1.65536e+06\n",
      "Iteration 140: max. residual =  1.35648e+06\n",
      "Iteration 150: max. residual =  1.11179e+06\n",
      "Iteration 160: max. residual =       911364\n",
      "Iteration 170: max. residual =       747141\n",
      "Iteration 180: max. residual =       612550\n",
      "Iteration 190: max. residual =       502228\n",
      "Iteration 200: max. residual =       411788\n",
      "Iteration 210: max. residual =       337642\n",
      "Iteration 220: max. residual =       276852\n",
      "Iteration 230: max. residual =       227008\n",
      "Iteration 240: max. residual =       186140\n",
      "Iteration 250: max. residual =       152630\n",
      "Iteration 260: max. residual =       125153\n",
      "Iteration 270: max. residual =       102623\n",
      "Iteration 280: max. residual =      84149.4\n",
      "Iteration 290: max. residual =      69001.1\n",
      "Iteration 300: max. residual =      56579.8\n",
      "Iteration 310: max. residual =      46394.6\n",
      "Iteration 320: max. residual =      38042.9\n",
      "Iteration 330: max. residual =      31194.6\n",
      "Iteration 340: max. residual =      25579.2\n",
      "Iteration 350: max. residual =      20974.6\n",
      "Iteration 360: max. residual =      17198.9\n",
      "Iteration 370: max. residual =      14102.8\n",
      "Iteration 380: max. residual =      11564.1\n",
      "Iteration 390: max. residual =      9482.44\n",
      "Iteration 400: max. residual =      7775.47\n",
      "Iteration 410: max. residual =      6375.78\n",
      "Iteration 420: max. residual =      5228.06\n",
      "Iteration 430: max. residual =      4286.94\n",
      "Iteration 440: max. residual =      3515.23\n",
      "Iteration 450: max. residual =      2882.44\n",
      "Iteration 460: max. residual =      2363.56\n",
      "Iteration 470: max. residual =      1938.09\n",
      "Iteration 480: max. residual =      1589.21\n",
      "Iteration 490: max. residual =      1303.13\n",
      "Iteration 500: max. residual =      1068.55\n",
      "Iteration 510: max. residual =      876.196\n",
      "Iteration 520: max. residual =      718.469\n",
      "Iteration 530: max. residual =      589.135\n",
      "Iteration 540: max. residual =      483.083\n",
      "Iteration 550: max. residual =      396.122\n",
      "Iteration 560: max. residual =      324.814\n",
      "Iteration 570: max. residual =      266.343\n",
      "Iteration 580: max. residual =      218.398\n",
      "Iteration 590: max. residual =      179.084\n",
      "Iteration 600: max. residual =      146.846\n",
      "Iteration 610: max. residual =      120.412\n",
      "Iteration 620: max. residual =      98.7361\n",
      "Iteration 630: max. residual =      80.9623\n",
      "Iteration 640: max. residual =       66.388\n",
      "Iteration 650: max. residual =      54.4373\n",
      "Iteration 660: max. residual =      44.6378\n",
      "Iteration 670: max. residual =      36.6024\n",
      "Iteration 680: max. residual =      30.0135\n",
      "Iteration 690: max. residual =      24.6107\n",
      "Iteration 700: max. residual =      20.1804\n",
      "Iteration 710: max. residual =      16.5477\n",
      "Iteration 720: max. residual =      13.5689\n",
      "Iteration 730: max. residual =      11.1263\n",
      "Iteration 740: max. residual =      9.12342\n",
      "Iteration 750: max. residual =      7.48108\n",
      "Iteration 760: max. residual =      6.13439\n",
      "Iteration 770: max. residual =      5.03012\n",
      "Iteration 780: max. residual =      4.12463\n",
      "Iteration 790: max. residual =      3.38214\n",
      "Iteration 800: max. residual =      2.77331\n",
      "Iteration 810: max. residual =      2.27408\n",
      "Iteration 820: max. residual =      1.86471\n",
      "Iteration 830: max. residual =      1.52904\n",
      "Iteration 840: max. residual =      1.25379\n",
      "Iteration 850: max. residual =      1.02809\n",
      "Iteration 860: max. residual =     0.843023\n",
      "Iteration 870: max. residual =     0.691267\n",
      "Iteration 880: max. residual =      0.56683\n",
      "Iteration 890: max. residual =     0.464793\n",
      "Iteration 900: max. residual =     0.381124\n",
      "Iteration 910: max. residual =     0.312517\n",
      "Iteration 920: max. residual =     0.256259\n",
      "Iteration 930: max. residual =     0.210129\n",
      "Iteration 940: max. residual =     0.172303\n",
      "Iteration 950: max. residual =     0.141286\n",
      "Iteration 960: max. residual =     0.115853\n",
      "Iteration 970: max. residual =    0.0949979\n",
      "Iteration 980: max. residual =    0.0778973\n",
      "Iteration 990: max. residual =    0.0638747\n",
      "Iteration 1000: max. residual =    0.0523765\n",
      "Iteration 1010: max. residual =     0.042948\n",
      "Iteration 1020: max. residual =     0.035217\n",
      "Iteration 1030: max. residual =    0.0288775\n",
      "Iteration 1040: max. residual =    0.0236793\n",
      "Iteration 1050: max. residual =    0.0194168\n",
      "Iteration 1060: max. residual =    0.0159216\n",
      "Iteration 1070: max. residual =    0.0130553\n",
      "Iteration 1080: max. residual =    0.0107052\n",
      "Iteration 1090: max. residual =    0.0087781\n",
      "Iteration 1100: max. residual =   0.00719762\n",
      "Iteration 1110: max. residual =   0.00590229\n",
      "Iteration 1120: max. residual =    0.0048399\n",
      "Iteration 1130: max. residual =   0.00396872\n",
      "Iteration 1140: max. residual =   0.00325418\n",
      "Iteration 1150: max. residual =   0.00266838\n",
      "Iteration 1160: max. residual =   0.00218844\n",
      "Iteration 1170: max. residual =   0.00179434\n",
      "Iteration 1180: max. residual =   0.00147128\n",
      "Iteration 1190: max. residual =   0.00120664\n",
      "Iteration 1200: max. residual =   0.00098896\n",
      "Iteration 1210: max. residual =  0.000810862\n",
      "Iteration 1220: max. residual =  0.000664949\n",
      "Iteration 1230: max. residual =  0.000545263\n",
      "Iteration 1240: max. residual =  0.000447035\n",
      "Iteration 1250: max. residual =  0.000366688\n",
      "Iteration 1260: max. residual =  0.000300884\n"
     ]
    }
   ],
   "source": [
    "# Main loop\n",
    "delta = 1.0\n",
    "iteration = 0\n",
    "while delta>target:\n",
    "\n",
    "    # Calculate new values of the potential\n",
    "    phiprime[0,:] = phi[0,:]\n",
    "    phiprime[-1,:] = phi[-1,:]\n",
    "    phiprime[:,0] = phi[:,0]\n",
    "    phiprime[:,-1] = phi[:,-1]\n",
    "    phiprime[1:M,1:M] = 0.25 * (phi[2:,1:M] + phi[:M-1,1:M] + phi[1:M,2:] + phi[1:M,:M-1]) + \\\n",
    "        (0.25 * a**2 / epsilon_0) * rho[1:M,1:M]\n",
    "    \n",
    "    # Calculate new values of the potential\n",
    "    #for i in range(M+1):\n",
    "    #    for j in range(M+1):\n",
    "    #        if i==0 or i==M or j==0 or j==M:\n",
    "    #            phiprime[i,j] = phi[i,j]\n",
    "    #        else:\n",
    "    #            phiprime[i,j] = 0.25*(phi[i+1,j] + phi[i-1,j] \\\n",
    "    #                                  + phi[i,j+1] + phi[i,j-1]) + \\\n",
    "    #                                  (0.25 * a**2 / epsilon_0) * rho[i,j]\n",
    "                                      \n",
    "\n",
    "    # Calculate maximum fractional difference from old values\n",
    "    delta = np.abs(phi-phiprime)\n",
    "    nonzero = phi > 0\n",
    "    if nonzero.any():\n",
    "        #delta = np.max(delta[nonzero] / phi[nonzero])\n",
    "        delta = np.max(delta[nonzero])\n",
    "    else:\n",
    "        delta = 1.0\n",
    "    if iteration % 10 == 0:\n",
    "        print(\"Iteration %3d: max. residual = %12.6g\" % (iteration, delta))\n",
    "\n",
    "    # Swap the two arrays around\n",
    "    phi,phiprime = phiprime,phi\n",
    "    iteration += 1"
   ]
  },
  {
   "cell_type": "code",
   "execution_count": 6,
   "metadata": {
    "tags": []
   },
   "outputs": [
    {
     "data": {
      "image/png": "[encoded data removed]",
      "text/plain": [
       "<Figure size 432x288 with 2 Axes>"
      ]
     },
     "metadata": {
      "needs_background": "light"
     },
     "output_type": "display_data"
    }
   ],
   "source": [
    "# Make a plot\n",
    "plt.imshow(phi)\n",
    "plt.gray()\n",
    "plt.colorbar()\n",
    "plt.show()"
   ]
  },
  {
   "cell_type": "code",
   "execution_count": null,
   "metadata": {},
   "outputs": [],
   "source": []
  }
 ],
 "metadata": {
  "kernelspec": {
   "display_name": "Python 3 (ipykernel)",
   "language": "python",
   "name": "python3"
  },
  "language_info": {
   "codemirror_mode": {
    "name": "ipython",
    "version": 3
   },
   "file_extension": ".py",
   "mimetype": "text/x-python",
   "name": "python",
   "nbconvert_exporter": "python",
   "pygments_lexer": "ipython3",
   "version": "3.8.10"
  }
 },
 "nbformat": 4,
 "nbformat_minor": 4
}
