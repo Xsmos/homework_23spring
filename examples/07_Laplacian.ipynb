{
 "cells": [
  {
   "cell_type": "code",
   "execution_count": 1,
   "metadata": {
    "collapsed": false,
    "deletable": true,
    "editable": true,
    "jupyter": {
     "outputs_hidden": false
    }
   },
   "outputs": [],
   "source": [
    "%matplotlib inline\n",
    "import numpy as np\n",
    "import matplotlib.pyplot as plt\n",
    "\n",
    "# Constants\n",
    "M = 100         # Grid squares on a side\n",
    "V = 1.0         # Voltage at top wall\n",
    "target = 3e-4   # Target accuracy\n",
    "\n",
    "# Create arrays to hold potential values\n",
    "phi = np.zeros([M+1,M+1],float)\n",
    "phi[0,:] = V\n",
    "phiprime = np.empty([M+1,M+1],float)"
   ]
  },
  {
   "cell_type": "code",
   "execution_count": 2,
   "metadata": {
    "collapsed": false,
    "deletable": true,
    "editable": true,
    "jupyter": {
     "outputs_hidden": false
    }
   },
   "outputs": [
    {
     "name": "stdout",
     "output_type": "stream",
     "text": [
      "Iteration   0: max. residual =         0.25\n",
      "Iteration  10: max. residual =    0.0215626\n",
      "Iteration  20: max. residual =    0.0114888\n",
      "Iteration  30: max. residual =   0.00782563\n",
      "Iteration  40: max. residual =   0.00585664\n",
      "Iteration  50: max. residual =   0.00475146\n",
      "Iteration  60: max. residual =   0.00394522\n",
      "Iteration  70: max. residual =   0.00341197\n",
      "Iteration  80: max. residual =   0.00297969\n",
      "Iteration  90: max. residual =   0.00265807\n",
      "Iteration 100: max. residual =   0.00239706\n",
      "Iteration 110: max. residual =   0.00217305\n",
      "Iteration 120: max. residual =   0.00199968\n",
      "Iteration 130: max. residual =   0.00184798\n",
      "Iteration 140: max. residual =   0.00171304\n",
      "Iteration 150: max. residual =   0.00160144\n",
      "Iteration 160: max. residual =    0.0015037\n",
      "Iteration 170: max. residual =   0.00141463\n",
      "Iteration 180: max. residual =   0.00133415\n",
      "Iteration 190: max. residual =   0.00126678\n",
      "Iteration 200: max. residual =   0.00120432\n",
      "Iteration 210: max. residual =   0.00114638\n",
      "Iteration 220: max. residual =   0.00109305\n",
      "Iteration 230: max. residual =   0.00104732\n",
      "Iteration 240: max. residual =   0.00100436\n",
      "Iteration 250: max. residual =   0.00096399\n",
      "Iteration 260: max. residual =   0.00092603\n",
      "Iteration 270: max. residual =  0.000892317\n",
      "Iteration 280: max. residual =  0.000861202\n",
      "Iteration 290: max. residual =  0.000831672\n",
      "Iteration 300: max. residual =  0.000803636\n",
      "Iteration 310: max. residual =  0.000777009\n",
      "Iteration 320: max. residual =  0.000753388\n",
      "Iteration 330: max. residual =  0.000730991\n",
      "Iteration 340: max. residual =  0.000709564\n",
      "Iteration 350: max. residual =  0.000689061\n",
      "Iteration 360: max. residual =  0.000669436\n",
      "Iteration 370: max. residual =  0.000651566\n",
      "Iteration 380: max. residual =  0.000634751\n",
      "Iteration 390: max. residual =  0.000618562\n",
      "Iteration 400: max. residual =  0.000602973\n",
      "Iteration 410: max. residual =   0.00058796\n",
      "Iteration 420: max. residual =  0.000573571\n",
      "Iteration 430: max. residual =  0.000560524\n",
      "Iteration 440: max. residual =  0.000547897\n",
      "Iteration 450: max. residual =  0.000535677\n",
      "Iteration 460: max. residual =  0.000523848\n",
      "Iteration 470: max. residual =  0.000512396\n",
      "Iteration 480: max. residual =  0.000501404\n",
      "Iteration 490: max. residual =  0.000491307\n",
      "Iteration 500: max. residual =  0.000481494\n",
      "Iteration 510: max. residual =  0.000471956\n",
      "Iteration 520: max. residual =  0.000462683\n",
      "Iteration 530: max. residual =  0.000453668\n",
      "Iteration 540: max. residual =  0.000444902\n",
      "Iteration 550: max. residual =  0.000436674\n",
      "Iteration 560: max. residual =  0.000428831\n",
      "Iteration 570: max. residual =  0.000421181\n",
      "Iteration 580: max. residual =  0.000413718\n",
      "Iteration 590: max. residual =  0.000406438\n",
      "Iteration 600: max. residual =  0.000399334\n",
      "Iteration 610: max. residual =  0.000392417\n",
      "Iteration 620: max. residual =  0.000386011\n",
      "Iteration 630: max. residual =  0.000379744\n",
      "Iteration 640: max. residual =  0.000373613\n",
      "Iteration 650: max. residual =  0.000367614\n",
      "Iteration 660: max. residual =  0.000361746\n",
      "Iteration 670: max. residual =  0.000356004\n",
      "Iteration 680: max. residual =  0.000350385\n",
      "Iteration 690: max. residual =  0.000345019\n",
      "Iteration 700: max. residual =  0.000339893\n",
      "Iteration 710: max. residual =  0.000334867\n",
      "Iteration 720: max. residual =  0.000329938\n",
      "Iteration 730: max. residual =  0.000325104\n",
      "Iteration 740: max. residual =  0.000320364\n",
      "Iteration 750: max. residual =  0.000315715\n",
      "Iteration 760: max. residual =  0.000311241\n",
      "Iteration 770: max. residual =  0.000306973\n",
      "Iteration 780: max. residual =   0.00030278\n"
     ]
    }
   ],
   "source": [
    "# Main loop\n",
    "delta = 1.0\n",
    "iteration = 0\n",
    "while delta>target:\n",
    "\n",
    "    # Calculate new values of the potential\n",
    "    phiprime[0,:] = phi[0,:]\n",
    "    phiprime[-1,:] = phi[-1,:]\n",
    "    phiprime[:,0] = phi[:,0]\n",
    "    phiprime[:,-1] = phi[:,-1]\n",
    "    phiprime[1:M,1:M] = 0.25 * (phi[2:,1:M] + phi[:M-1,1:M] + phi[1:M,2:] + phi[1:M,:M-1])\n",
    "    \n",
    "#    for i in range(M+1):\n",
    "#        for j in range(M+1):\n",
    "#            if i==0 or i==M or j==0 or j==M:\n",
    "#                phiprime[i,j] = phi[i,j]\n",
    "#            else:\n",
    "#                phiprime[i,j] = 0.25*(phi[i+1,j] + phi[i-1,j] \\\n",
    "#                                      + phi[i,j+1] + phi[i,j-1])\n",
    "\n",
    "    # Calculate maximum difference from old values\n",
    "    delta = np.max(abs(phi-phiprime))\n",
    "    if iteration % 10 == 0:\n",
    "        print(\"Iteration %3d: max. residual = %12.6g\" % (iteration, delta))\n",
    "\n",
    "    # Swap the two arrays around\n",
    "    phi,phiprime = phiprime,phi\n",
    "    iteration += 1"
   ]
  },
  {
   "cell_type": "code",
   "execution_count": 3,
   "metadata": {
    "collapsed": false,
    "deletable": true,
    "editable": true,
    "jupyter": {
     "outputs_hidden": false
    }
   },
   "outputs": [
    {
     "name": "stderr",
     "output_type": "stream",
     "text": [
      "/tmp/ipykernel_178073/2204601281.py:2: RuntimeWarning: divide by zero encountered in log10\n",
      "  plt.imshow(np.log10(phi), cmap='inferno')\n"
     ]
    },
    {
     "data": {
      "image/png": "[encoded data removed]",
      "text/plain": [
       "<Figure size 640x480 with 2 Axes>"
      ]
     },
     "metadata": {},
     "output_type": "display_data"
    }
   ],
   "source": [
    "# Make a plot\n",
    "plt.imshow(np.log10(phi), cmap='inferno')\n",
    "plt.colorbar()\n",
    "plt.show()"
   ]
  },
  {
   "cell_type": "code",
   "execution_count": null,
   "metadata": {
    "collapsed": true,
    "deletable": true,
    "editable": true,
    "jupyter": {
     "outputs_hidden": true
    }
   },
   "outputs": [],
   "source": []
  }
 ],
 "metadata": {
  "kernelspec": {
   "display_name": "Python 3 (ipykernel)",
   "language": "python",
   "name": "python3"
  },
  "language_info": {
   "codemirror_mode": {
    "name": "ipython",
    "version": 3
   },
   "file_extension": ".py",
   "mimetype": "text/x-python",
   "name": "python",
   "nbconvert_exporter": "python",
   "pygments_lexer": "ipython3",
   "version": "3.9.13"
  }
 },
 "nbformat": 4,
 "nbformat_minor": 4
}
